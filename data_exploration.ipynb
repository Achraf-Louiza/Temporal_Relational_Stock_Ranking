{
 "cells": [
  {
   "cell_type": "code",
   "execution_count": 1,
   "id": "52530544-5612-459f-8e04-7a00d975447d",
   "metadata": {},
   "outputs": [
    {
     "name": "stdout",
     "output_type": "stream",
     "text": [
      "WARNING:tensorflow:From C:\\Users\\driss\\anaconda3\\envs\\proxia\\Lib\\site-packages\\keras\\src\\losses.py:2976: The name tf.losses.sparse_softmax_cross_entropy is deprecated. Please use tf.compat.v1.losses.sparse_softmax_cross_entropy instead.\n",
      "\n",
      "WARNING:tensorflow:From C:\\Users\\driss\\OneDrive\\Bureau\\Temporal_Relational_Stock_Ranking\\training\\relation_rank_lstm2.py:7: The name tf.disable_v2_behavior is deprecated. Please use tf.compat.v1.disable_v2_behavior instead.\n",
      "\n",
      "WARNING:tensorflow:From C:\\Users\\driss\\anaconda3\\envs\\proxia\\Lib\\site-packages\\tensorflow\\python\\compat\\v2_compat.py:108: disable_resource_variables (from tensorflow.python.ops.variable_scope) is deprecated and will be removed in a future version.\n",
      "Instructions for updating:\n",
      "non-resource variables are not supported in the long term\n"
     ]
    }
   ],
   "source": [
    "from training.load_data import *\n",
    "from training.relation_rank_lstm2 import ReRaLSTM\n",
    "import os"
   ]
  },
  {
   "cell_type": "code",
   "execution_count": 2,
   "id": "80472bac-b1a0-4200-9e0d-ad40dadc6b0b",
   "metadata": {},
   "outputs": [],
   "source": [
    "# Parameters: data\n",
    "data_path = \"data/2013-01-01\"\n",
    "market_name = \"NASDAQ\"\n",
    "tickers_fname =  'NASDAQ_tickers_qualify_dr-0.98_min-5_smooth.csv'\n",
    "relation_name = \"sector_industry\"\n",
    "steps=1\n",
    "\n",
    "# Parameters: model\n",
    "emb_fname = 'NASDAQ_rank_lstm_seq-16_unit-64_2.csv.npy'\n",
    "parameters = {'seq': 16, 'unit': 64, 'lr': 0.001, 'alpha': 1.0}\n",
    "steps = 1\n",
    "epochs = 1\n",
    "batch_size = None\n",
    "flat = False\n",
    "gpu = False\n",
    "in_pro = False"
   ]
  },
  {
   "cell_type": "code",
   "execution_count": 3,
   "id": "ec5b6466-b854-420b-88a9-71f6cbfb024e",
   "metadata": {},
   "outputs": [],
   "source": [
    "# load data: Technical ---------------------------------------------------\n",
    "#tickers = np.genfromtxt(os.path.join(data_path, '..', tickers_fname),\n",
    "#                             dtype=str, delimiter='\\t', skip_header=False)\n",
    "#print('#tickers selected:', len(tickers))\n",
    "#eod_data, mask_data, gt_data, price_data = \\\n",
    "#    load_EOD_data(data_path, market_name, tickers, steps)\n",
    "#eod_data.shape, mask_data.shape, gt_data.shape, price_data.shape\n",
    "\n",
    "# load data: Relational ---------------------------------------------------\n"
   ]
  },
  {
   "cell_type": "code",
   "execution_count": 4,
   "id": "c56c2067-e6e4-466a-b653-041e17d6ad45",
   "metadata": {
    "scrolled": true
   },
   "outputs": [
    {
     "name": "stdout",
     "output_type": "stream",
     "text": [
      "#tickers selected: 1026\n",
      "single EOD data shape: (1245, 6)\n",
      "relation encoding shape: (1026, 1026, 97)\n",
      "relation encoding shape: (1026, 1026, 97)\n",
      "relation mask shape: (1026, 1026)\n",
      "relation encoding shape: (1026, 1026, 97)\n",
      "relation mask shape: (1026, 1026)\n",
      "embedding shape: (1026, 1245, 64)\n",
      "WARNING:tensorflow:From C:\\Users\\driss\\anaconda3\\envs\\proxia\\Lib\\site-packages\\keras\\src\\utils\\version_utils.py:76: The name tf.executing_eagerly_outside_functions is deprecated. Please use tf.compat.v1.executing_eagerly_outside_functions instead.\n",
      "\n"
     ]
    },
    {
     "name": "stderr",
     "output_type": "stream",
     "text": [
      "C:\\Users\\driss\\OneDrive\\Bureau\\Temporal_Relational_Stock_Ranking\\training\\relation_rank_lstm2.py:91: UserWarning: `tf.layers.dense` is deprecated and will be removed in a future version. Please use `tf.keras.layers.Dense` instead.\n",
      "  rel_weight = tf.layers.dense(relation, units=1, activation=leaky_relu)\n",
      "C:\\Users\\driss\\OneDrive\\Bureau\\Temporal_Relational_Stock_Ranking\\training\\relation_rank_lstm2.py:99: UserWarning: `tf.layers.dense` is deprecated and will be removed in a future version. Please use `tf.keras.layers.Dense` instead.\n",
      "  head_weight = tf.layers.dense(feature, units=1, activation=leaky_relu)\n",
      "C:\\Users\\driss\\OneDrive\\Bureau\\Temporal_Relational_Stock_Ranking\\training\\relation_rank_lstm2.py:100: UserWarning: `tf.layers.dense` is deprecated and will be removed in a future version. Please use `tf.keras.layers.Dense` instead.\n",
      "  tail_weight = tf.layers.dense(feature, units=1, activation=leaky_relu)\n"
     ]
    },
    {
     "name": "stdout",
     "output_type": "stream",
     "text": [
      "sum weight\n",
      "WARNING:tensorflow:From C:\\Users\\driss\\anaconda3\\envs\\proxia\\Lib\\site-packages\\tensorflow\\python\\util\\dispatch.py:1260: div (from tensorflow.python.ops.math_ops) is deprecated and will be removed in a future version.\n",
      "Instructions for updating:\n",
      "Deprecated in favor of operator or tf.math.divide.\n",
      "WARNING:tensorflow:From C:\\Users\\driss\\OneDrive\\Bureau\\Temporal_Relational_Stock_Ranking\\training\\relation_rank_lstm2.py:143: The name tf.train.AdamOptimizer is deprecated. Please use tf.compat.v1.train.AdamOptimizer instead.\n",
      "\n"
     ]
    },
    {
     "name": "stderr",
     "output_type": "stream",
     "text": [
      "C:\\Users\\driss\\OneDrive\\Bureau\\Temporal_Relational_Stock_Ranking\\training\\relation_rank_lstm2.py:116: UserWarning: `tf.layers.dense` is deprecated and will be removed in a future version. Please use `tf.keras.layers.Dense` instead.\n",
      "  prediction = tf.layers.dense(\n"
     ]
    },
    {
     "name": "stdout",
     "output_type": "stream",
     "text": [
      "Model built successfully.\n"
     ]
    }
   ],
   "source": [
    "# Build model and init trainer the model\n",
    "RR_LSTM = ReRaLSTM(data_path=data_path, market_name=market_name, tickers_fname=tickers_fname,\n",
    "                   relation_name=relation_name, emb_fname=emb_fname, parameters=parameters,\n",
    "                   steps=steps, epochs=epochs, batch_size=batch_size, flat=flat, gpu=gpu,\n",
    "                   in_pro=in_pro)\n",
    "RR_LSTM.build_model()"
   ]
  },
  {
   "cell_type": "code",
   "execution_count": 8,
   "id": "88e67df0-5f8e-4421-a7b1-d7419451ac76",
   "metadata": {},
   "outputs": [
    {
     "name": "stdout",
     "output_type": "stream",
     "text": [
      "Train Loss: 0.022771690006216837 0.022176945961325908 0.0005947440618026146\n",
      "\n",
      "Valid Loss: 0.0013676552131535514 0.0011343436053721234 0.00023331160584694728\n",
      "\n",
      " Valid performance: {'mse': 0.0011349565623307873, 'mrrt': 0.027183123578319018, 'btl': 1.8243958860985003}\n",
      "\n",
      "Test Loss: 0.0014512970918820942 0.0012541614342205824 0.00019713565888952164\n",
      "\t Test performance: {'mse': 0.0012543000896616697, 'mrrt': 0.013187531328590301, 'btl': 0.18970057426486164}\n",
      "Better valid loss: 0.0013676552131535514\n",
      "epoch: 0 time: 79.3061 \n",
      "\n",
      "Best Valid performance: {'mse': 0.0011349565623307873, 'mrrt': 0.027183123578319018, 'btl': 1.8243958860985003}\n",
      "\n",
      "Best Test performance: {'mse': 0.0012543000896616697, 'mrrt': 0.013187531328590301, 'btl': 0.18970057426486164}\n"
     ]
    }
   ],
   "source": [
    "pred_all = RR_LSTM.train()"
   ]
  },
  {
   "cell_type": "code",
   "execution_count": 6,
   "id": "25e1fa45-02cd-4218-8ce0-c3d501e20c1d",
   "metadata": {},
   "outputs": [
    {
     "name": "stdout",
     "output_type": "stream",
     "text": [
      "INFO:tensorflow:Restoring parameters from SAVED_MODEL/model-ep1\n",
      "Model restored from SAVED_MODEL/model-ep1\n"
     ]
    }
   ],
   "source": [
    "RR_LSTM.load_model(filepath='SAVED_MODEL/model-ep1')"
   ]
  },
  {
   "cell_type": "code",
   "execution_count": null,
   "id": "7db6f94a-a449-4d56-b55f-1d9d914edc70",
   "metadata": {},
   "outputs": [],
   "source": []
  }
 ],
 "metadata": {
  "kernelspec": {
   "display_name": "Python 3 (ipykernel)",
   "language": "python",
   "name": "python3"
  },
  "language_info": {
   "codemirror_mode": {
    "name": "ipython",
    "version": 3
   },
   "file_extension": ".py",
   "mimetype": "text/x-python",
   "name": "python",
   "nbconvert_exporter": "python",
   "pygments_lexer": "ipython3",
   "version": "3.11.7"
  }
 },
 "nbformat": 4,
 "nbformat_minor": 5
}
